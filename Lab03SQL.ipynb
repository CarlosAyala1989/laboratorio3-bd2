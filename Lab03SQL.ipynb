{
    "metadata": {
        "kernelspec": {
            "name": "SQL",
            "display_name": "SQL",
            "language": "sql"
        },
        "language_info": {
            "name": "sql",
            "version": ""
        }
    },
    "nbformat_minor": 2,
    "nbformat": 4,
    "cells": [
        {
            "cell_type": "markdown",
            "source": [
                "<h1><center>Laboratorio N° 03: Pivoting y Grouping Sets"
            ],
            "metadata": {
                "azdata_cell_guid": "da56dd7e-b893-4a86-8522-2fcf4dee8da5"
            }
        },
        {
            "cell_type": "markdown",
            "source": [
                "<h2>Parte 01. Escribir consultas que utilizan PIVOT."
            ],
            "metadata": {
                "azdata_cell_guid": "9770c61e-a315-425c-a850-5cbb70ca9eb8"
            }
        },
        {
            "cell_type": "markdown",
            "source": [
                "1.1. Abrir la base de datos TSQL."
            ],
            "metadata": {
                "azdata_cell_guid": "7236b200-cd41-4b04-9f2d-68cb7c3dc9c5"
            }
        },
        {
            "cell_type": "code",
            "source": [
                "USE TSQL;\n",
                "GO"
            ],
            "metadata": {
                "azdata_cell_guid": "8ebcbaac-806f-46d2-ab33-32516a9d26e1",
                "language": "sql"
            },
            "outputs": [
                {
                    "output_type": "display_data",
                    "data": {
                        "text/html": "Commands completed successfully."
                    },
                    "metadata": {}
                },
                {
                    "output_type": "display_data",
                    "data": {
                        "text/html": "Total execution time: 00:00:00"
                    },
                    "metadata": {}
                }
            ],
            "execution_count": 2
        },
        {
            "cell_type": "markdown",
            "source": [
                "1.2. Crear un vista de categorías de productos, sus cantidaddes por año."
            ],
            "metadata": {
                "azdata_cell_guid": "1eba00bd-8865-4c5b-b9df-a832f6be43c2"
            }
        },
        {
            "cell_type": "code",
            "source": [
                "CREATE VIEW Sales.CategoryQtyYear\r\n",
                "AS\r\n",
                "SELECT c.categoryname AS Category,\r\n",
                "       SUM(od.qty) AS TotalQty, -- Suma de cantidades\r\n",
                "       YEAR(o.orderdate) AS Orderyear\r\n",
                "FROM Production.Categories AS c\r\n",
                "INNER JOIN Production.Products AS p ON c.categoryid = p.categoryid\r\n",
                "INNER JOIN Sales.OrderDetails AS od ON p.productid = od.productid\r\n",
                "INNER JOIN Sales.Orders AS o ON od.orderid = o.orderid\r\n",
                "GROUP BY c.categoryname, YEAR(o.orderdate); -- Agrupar por categoría y año\r\n",
                "GO"
            ],
            "metadata": {
                "azdata_cell_guid": "35654719-1212-4521-b547-3dc388e7e888",
                "language": "sql"
            },
            "outputs": [
                {
                    "output_type": "error",
                    "evalue": "Msg 2714, Level 16, State 3, Procedure CategoryQtyYear, Line 1\r\nYa hay un objeto con el nombre 'CategoryQtyYear' en la base de datos.",
                    "ename": "",
                    "traceback": []
                },
                {
                    "output_type": "display_data",
                    "data": {
                        "text/html": "Total execution time: 00:00:00.004"
                    },
                    "metadata": {}
                }
            ],
            "execution_count": 5
        },
        {
            "cell_type": "markdown",
            "source": [
                "1.3. Probar la vista creada."
            ],
            "metadata": {
                "azdata_cell_guid": "4091e1d7-ba9f-4df1-9b3f-5133da270abc"
            }
        },
        {
            "cell_type": "code",
            "source": [
                "SELECT Category, TotalQty, Orderyear\r\n",
                "FROM Sales.CategoryQtyYear;\r\n",
                "GO"
            ],
            "metadata": {
                "azdata_cell_guid": "4d6bc0ec-0033-4cb3-9f2f-48563fb15438",
                "language": "sql"
            },
            "outputs": [
                {
                    "output_type": "display_data",
                    "data": {
                        "text/html": "(24 rows affected)"
                    },
                    "metadata": {}
                },
                {
                    "output_type": "display_data",
                    "data": {
                        "text/html": "Total execution time: 00:00:00.044"
                    },
                    "metadata": {}
                },
                {
                    "output_type": "execute_result",
                    "metadata": {},
                    "execution_count": 6,
                    "data": {
                        "application/vnd.dataresource+json": {
                            "schema": {
                                "fields": [
                                    {
                                        "name": "Category"
                                    },
                                    {
                                        "name": "TotalQty"
                                    },
                                    {
                                        "name": "Orderyear"
                                    }
                                ]
                            },
                            "data": [
                                {
                                    "0": "Meat/Poultry",
                                    "1": "950",
                                    "2": "2006"
                                },
                                {
                                    "0": "Seafood",
                                    "1": "2716",
                                    "2": "2008"
                                },
                                {
                                    "0": "Dairy Products",
                                    "1": "4374",
                                    "2": "2007"
                                },
                                {
                                    "0": "Grains/Cereals",
                                    "1": "1377",
                                    "2": "2008"
                                },
                                {
                                    "0": "Confections",
                                    "1": "4137",
                                    "2": "2007"
                                },
                                {
                                    "0": "Produce",
                                    "1": "858",
                                    "2": "2008"
                                },
                                {
                                    "0": "Beverages",
                                    "1": "1842",
                                    "2": "2006"
                                },
                                {
                                    "0": "Condiments",
                                    "1": "1441",
                                    "2": "2008"
                                },
                                {
                                    "0": "Dairy Products",
                                    "1": "2689",
                                    "2": "2008"
                                },
                                {
                                    "0": "Seafood",
                                    "1": "3679",
                                    "2": "2007"
                                },
                                {
                                    "0": "Meat/Poultry",
                                    "1": "2189",
                                    "2": "2007"
                                },
                                {
                                    "0": "Condiments",
                                    "1": "962",
                                    "2": "2006"
                                },
                                {
                                    "0": "Dairy Products",
                                    "1": "2086",
                                    "2": "2006"
                                },
                                {
                                    "0": "Confections",
                                    "1": "2412",
                                    "2": "2008"
                                },
                                {
                                    "0": "Beverages",
                                    "1": "3996",
                                    "2": "2007"
                                },
                                {
                                    "0": "Seafood",
                                    "1": "1286",
                                    "2": "2006"
                                },
                                {
                                    "0": "Grains/Cereals",
                                    "1": "549",
                                    "2": "2006"
                                },
                                {
                                    "0": "Produce",
                                    "1": "549",
                                    "2": "2006"
                                },
                                {
                                    "0": "Confections",
                                    "1": "1357",
                                    "2": "2006"
                                },
                                {
                                    "0": "Grains/Cereals",
                                    "1": "2636",
                                    "2": "2007"
                                },
                                {
                                    "0": "Produce",
                                    "1": "1583",
                                    "2": "2007"
                                },
                                {
                                    "0": "Meat/Poultry",
                                    "1": "1060",
                                    "2": "2008"
                                },
                                {
                                    "0": "Condiments",
                                    "1": "2895",
                                    "2": "2007"
                                },
                                {
                                    "0": "Beverages",
                                    "1": "3694",
                                    "2": "2008"
                                }
                            ]
                        },
                        "text/html": [
                            "<table>",
                            "<tr><th>Category</th><th>TotalQty</th><th>Orderyear</th></tr>",
                            "<tr><td>Meat/Poultry</td><td>950</td><td>2006</td></tr>",
                            "<tr><td>Seafood</td><td>2716</td><td>2008</td></tr>",
                            "<tr><td>Dairy Products</td><td>4374</td><td>2007</td></tr>",
                            "<tr><td>Grains/Cereals</td><td>1377</td><td>2008</td></tr>",
                            "<tr><td>Confections</td><td>4137</td><td>2007</td></tr>",
                            "<tr><td>Produce</td><td>858</td><td>2008</td></tr>",
                            "<tr><td>Beverages</td><td>1842</td><td>2006</td></tr>",
                            "<tr><td>Condiments</td><td>1441</td><td>2008</td></tr>",
                            "<tr><td>Dairy Products</td><td>2689</td><td>2008</td></tr>",
                            "<tr><td>Seafood</td><td>3679</td><td>2007</td></tr>",
                            "<tr><td>Meat/Poultry</td><td>2189</td><td>2007</td></tr>",
                            "<tr><td>Condiments</td><td>962</td><td>2006</td></tr>",
                            "<tr><td>Dairy Products</td><td>2086</td><td>2006</td></tr>",
                            "<tr><td>Confections</td><td>2412</td><td>2008</td></tr>",
                            "<tr><td>Beverages</td><td>3996</td><td>2007</td></tr>",
                            "<tr><td>Seafood</td><td>1286</td><td>2006</td></tr>",
                            "<tr><td>Grains/Cereals</td><td>549</td><td>2006</td></tr>",
                            "<tr><td>Produce</td><td>549</td><td>2006</td></tr>",
                            "<tr><td>Confections</td><td>1357</td><td>2006</td></tr>",
                            "<tr><td>Grains/Cereals</td><td>2636</td><td>2007</td></tr>",
                            "<tr><td>Produce</td><td>1583</td><td>2007</td></tr>",
                            "<tr><td>Meat/Poultry</td><td>1060</td><td>2008</td></tr>",
                            "<tr><td>Condiments</td><td>2895</td><td>2007</td></tr>",
                            "<tr><td>Beverages</td><td>3694</td><td>2008</td></tr>",
                            "</table>"
                        ]
                    }
                }
            ],
            "execution_count": 6
        },
        {
            "cell_type": "markdown",
            "source": [
                "1.4. Utilizar PIVOT entre categorías y años de ordenes."
            ],
            "metadata": {
                "azdata_cell_guid": "85b03d3a-82d5-4cd2-b9a5-9277248759f1"
            }
        },
        {
            "cell_type": "code",
            "source": [
                "SELECT Category, [2006], [2007], [2008]\r\n",
                "FROM (SELECT Category, TotalQty, Orderyear FROM Sales.CategoryQtyYear) AS D\r\n",
                "PIVOT(SUM(TotalQty) FOR Orderyear IN ([2006], [2007], [2008])) AS pvt\r\n",
                "ORDER BY Category;\r\n",
                "GO"
            ],
            "metadata": {
                "azdata_cell_guid": "d4e9eb57-5d1a-41f3-b5d5-b5eb194be12b",
                "language": "sql"
            },
            "outputs": [
                {
                    "output_type": "display_data",
                    "data": {
                        "text/html": "(8 rows affected)"
                    },
                    "metadata": {}
                },
                {
                    "output_type": "display_data",
                    "data": {
                        "text/html": "Total execution time: 00:00:00.017"
                    },
                    "metadata": {}
                },
                {
                    "output_type": "execute_result",
                    "metadata": {},
                    "execution_count": 7,
                    "data": {
                        "application/vnd.dataresource+json": {
                            "schema": {
                                "fields": [
                                    {
                                        "name": "Category"
                                    },
                                    {
                                        "name": "2006"
                                    },
                                    {
                                        "name": "2007"
                                    },
                                    {
                                        "name": "2008"
                                    }
                                ]
                            },
                            "data": [
                                {
                                    "0": "Beverages",
                                    "1": "1842",
                                    "2": "3996",
                                    "3": "3694"
                                },
                                {
                                    "0": "Condiments",
                                    "1": "962",
                                    "2": "2895",
                                    "3": "1441"
                                },
                                {
                                    "0": "Confections",
                                    "1": "1357",
                                    "2": "4137",
                                    "3": "2412"
                                },
                                {
                                    "0": "Dairy Products",
                                    "1": "2086",
                                    "2": "4374",
                                    "3": "2689"
                                },
                                {
                                    "0": "Grains/Cereals",
                                    "1": "549",
                                    "2": "2636",
                                    "3": "1377"
                                },
                                {
                                    "0": "Meat/Poultry",
                                    "1": "950",
                                    "2": "2189",
                                    "3": "1060"
                                },
                                {
                                    "0": "Produce",
                                    "1": "549",
                                    "2": "1583",
                                    "3": "858"
                                },
                                {
                                    "0": "Seafood",
                                    "1": "1286",
                                    "2": "3679",
                                    "3": "2716"
                                }
                            ]
                        },
                        "text/html": [
                            "<table>",
                            "<tr><th>Category</th><th>2006</th><th>2007</th><th>2008</th></tr>",
                            "<tr><td>Beverages</td><td>1842</td><td>3996</td><td>3694</td></tr>",
                            "<tr><td>Condiments</td><td>962</td><td>2895</td><td>1441</td></tr>",
                            "<tr><td>Confections</td><td>1357</td><td>4137</td><td>2412</td></tr>",
                            "<tr><td>Dairy Products</td><td>2086</td><td>4374</td><td>2689</td></tr>",
                            "<tr><td>Grains/Cereals</td><td>549</td><td>2636</td><td>1377</td></tr>",
                            "<tr><td>Meat/Poultry</td><td>950</td><td>2189</td><td>1060</td></tr>",
                            "<tr><td>Produce</td><td>549</td><td>1583</td><td>858</td></tr>",
                            "<tr><td>Seafood</td><td>1286</td><td>3679</td><td>2716</td></tr>",
                            "</table>"
                        ]
                    }
                }
            ],
            "execution_count": 7
        },
        {
            "cell_type": "markdown",
            "source": [
                "1.5. Para utilizar UNPIVOT, crear una tabla con el resultado de la consulta con PIVOT anterior."
            ],
            "metadata": {
                "azdata_cell_guid": "d9d3a7a0-a061-4c82-9056-3b2f727f6c2d"
            }
        },
        {
            "cell_type": "code",
            "source": [
                "CREATE TABLE [Sales].[PivotedCategorySales](\r\n",
                "    [Category] [nvarchar](15) NOT NULL,\r\n",
                "    [2006] [int] NULL,\r\n",
                "    [2007] [int] NULL,\r\n",
                "    [2008] [int] NULL\r\n",
                ");\r\n",
                "GO\r\n",
                "\r\n",
                "INSERT INTO Sales.PivotedCategorySales (Category, [2006], [2007], [2008])\r\n",
                "SELECT Category, [2006], [2007], [2008]\r\n",
                "FROM (SELECT Category, TotalQty, Orderyear FROM Sales.CategoryQtyYear) AS D\r\n",
                "PIVOT(SUM(TotalQty) FOR Orderyear IN ([2006], [2007], [2008])) AS p;\r\n",
                "GO"
            ],
            "metadata": {
                "azdata_cell_guid": "5963cd3e-f1b3-4eaf-9c71-8d903dd35c2f",
                "language": "sql"
            },
            "outputs": [
                {
                    "output_type": "error",
                    "evalue": "Msg 2714, Level 16, State 6, Line 1\r\nYa hay un objeto con el nombre 'PivotedCategorySales' en la base de datos.",
                    "ename": "",
                    "traceback": []
                },
                {
                    "output_type": "display_data",
                    "data": {
                        "text/html": "(8 rows affected)"
                    },
                    "metadata": {}
                },
                {
                    "output_type": "display_data",
                    "data": {
                        "text/html": "Total execution time: 00:00:00.015"
                    },
                    "metadata": {}
                }
            ],
            "execution_count": 9
        },
        {
            "cell_type": "markdown",
            "source": [
                "1.6. Probrar la tabla generada"
            ],
            "metadata": {
                "azdata_cell_guid": "fdf1f380-33b1-4355-99dc-207bbf3eb3f3"
            }
        },
        {
            "cell_type": "code",
            "source": [
                "SELECT Category, [2006], [2007], [2008]\r\n",
                "FROM Sales.PivotedCategorySales;\r\n",
                "GO"
            ],
            "metadata": {
                "azdata_cell_guid": "4407f21f-1c35-4c00-978a-0d24fc18d9f1",
                "language": "sql"
            },
            "outputs": [
                {
                    "output_type": "display_data",
                    "data": {
                        "text/html": "(8 rows affected)"
                    },
                    "metadata": {}
                },
                {
                    "output_type": "display_data",
                    "data": {
                        "text/html": "Total execution time: 00:00:00.004"
                    },
                    "metadata": {}
                },
                {
                    "output_type": "execute_result",
                    "metadata": {},
                    "execution_count": 10,
                    "data": {
                        "application/vnd.dataresource+json": {
                            "schema": {
                                "fields": [
                                    {
                                        "name": "Category"
                                    },
                                    {
                                        "name": "2006"
                                    },
                                    {
                                        "name": "2007"
                                    },
                                    {
                                        "name": "2008"
                                    }
                                ]
                            },
                            "data": [
                                {
                                    "0": "Beverages",
                                    "1": "1842",
                                    "2": "3996",
                                    "3": "3694"
                                },
                                {
                                    "0": "Condiments",
                                    "1": "962",
                                    "2": "2895",
                                    "3": "1441"
                                },
                                {
                                    "0": "Confections",
                                    "1": "1357",
                                    "2": "4137",
                                    "3": "2412"
                                },
                                {
                                    "0": "Dairy Products",
                                    "1": "2086",
                                    "2": "4374",
                                    "3": "2689"
                                },
                                {
                                    "0": "Grains/Cereals",
                                    "1": "549",
                                    "2": "2636",
                                    "3": "1377"
                                },
                                {
                                    "0": "Meat/Poultry",
                                    "1": "950",
                                    "2": "2189",
                                    "3": "1060"
                                },
                                {
                                    "0": "Produce",
                                    "1": "549",
                                    "2": "1583",
                                    "3": "858"
                                },
                                {
                                    "0": "Seafood",
                                    "1": "1286",
                                    "2": "3679",
                                    "3": "2716"
                                }
                            ]
                        },
                        "text/html": [
                            "<table>",
                            "<tr><th>Category</th><th>2006</th><th>2007</th><th>2008</th></tr>",
                            "<tr><td>Beverages</td><td>1842</td><td>3996</td><td>3694</td></tr>",
                            "<tr><td>Condiments</td><td>962</td><td>2895</td><td>1441</td></tr>",
                            "<tr><td>Confections</td><td>1357</td><td>4137</td><td>2412</td></tr>",
                            "<tr><td>Dairy Products</td><td>2086</td><td>4374</td><td>2689</td></tr>",
                            "<tr><td>Grains/Cereals</td><td>549</td><td>2636</td><td>1377</td></tr>",
                            "<tr><td>Meat/Poultry</td><td>950</td><td>2189</td><td>1060</td></tr>",
                            "<tr><td>Produce</td><td>549</td><td>1583</td><td>858</td></tr>",
                            "<tr><td>Seafood</td><td>1286</td><td>3679</td><td>2716</td></tr>",
                            "</table>"
                        ]
                    }
                }
            ],
            "execution_count": 10
        },
        {
            "cell_type": "markdown",
            "source": [
                "1.7. Utilizar UNPIVOT."
            ],
            "metadata": {
                "azdata_cell_guid": "9728a179-da73-4a88-b211-101133f579b9"
            }
        },
        {
            "cell_type": "code",
            "source": [
                "SELECT Category, [Value] AS Qty, Orderyear\r\n",
                "FROM Sales.PivotedCategorySales\r\n",
                "UNPIVOT([Value] FOR Orderyear IN ([2006], [2007], [2008])) AS unpvt;\r\n",
                "GO"
            ],
            "metadata": {
                "azdata_cell_guid": "0978b805-570c-4f50-a9cf-9407380d5b77",
                "language": "sql"
            },
            "outputs": [
                {
                    "output_type": "display_data",
                    "data": {
                        "text/html": "(24 rows affected)"
                    },
                    "metadata": {}
                },
                {
                    "output_type": "display_data",
                    "data": {
                        "text/html": "Total execution time: 00:00:00.010"
                    },
                    "metadata": {}
                },
                {
                    "output_type": "execute_result",
                    "metadata": {},
                    "execution_count": 11,
                    "data": {
                        "application/vnd.dataresource+json": {
                            "schema": {
                                "fields": [
                                    {
                                        "name": "Category"
                                    },
                                    {
                                        "name": "Qty"
                                    },
                                    {
                                        "name": "Orderyear"
                                    }
                                ]
                            },
                            "data": [
                                {
                                    "0": "Beverages",
                                    "1": "1842",
                                    "2": "2006"
                                },
                                {
                                    "0": "Beverages",
                                    "1": "3996",
                                    "2": "2007"
                                },
                                {
                                    "0": "Beverages",
                                    "1": "3694",
                                    "2": "2008"
                                },
                                {
                                    "0": "Condiments",
                                    "1": "962",
                                    "2": "2006"
                                },
                                {
                                    "0": "Condiments",
                                    "1": "2895",
                                    "2": "2007"
                                },
                                {
                                    "0": "Condiments",
                                    "1": "1441",
                                    "2": "2008"
                                },
                                {
                                    "0": "Confections",
                                    "1": "1357",
                                    "2": "2006"
                                },
                                {
                                    "0": "Confections",
                                    "1": "4137",
                                    "2": "2007"
                                },
                                {
                                    "0": "Confections",
                                    "1": "2412",
                                    "2": "2008"
                                },
                                {
                                    "0": "Dairy Products",
                                    "1": "2086",
                                    "2": "2006"
                                },
                                {
                                    "0": "Dairy Products",
                                    "1": "4374",
                                    "2": "2007"
                                },
                                {
                                    "0": "Dairy Products",
                                    "1": "2689",
                                    "2": "2008"
                                },
                                {
                                    "0": "Grains/Cereals",
                                    "1": "549",
                                    "2": "2006"
                                },
                                {
                                    "0": "Grains/Cereals",
                                    "1": "2636",
                                    "2": "2007"
                                },
                                {
                                    "0": "Grains/Cereals",
                                    "1": "1377",
                                    "2": "2008"
                                },
                                {
                                    "0": "Meat/Poultry",
                                    "1": "950",
                                    "2": "2006"
                                },
                                {
                                    "0": "Meat/Poultry",
                                    "1": "2189",
                                    "2": "2007"
                                },
                                {
                                    "0": "Meat/Poultry",
                                    "1": "1060",
                                    "2": "2008"
                                },
                                {
                                    "0": "Produce",
                                    "1": "549",
                                    "2": "2006"
                                },
                                {
                                    "0": "Produce",
                                    "1": "1583",
                                    "2": "2007"
                                },
                                {
                                    "0": "Produce",
                                    "1": "858",
                                    "2": "2008"
                                },
                                {
                                    "0": "Seafood",
                                    "1": "1286",
                                    "2": "2006"
                                },
                                {
                                    "0": "Seafood",
                                    "1": "3679",
                                    "2": "2007"
                                },
                                {
                                    "0": "Seafood",
                                    "1": "2716",
                                    "2": "2008"
                                }
                            ]
                        },
                        "text/html": [
                            "<table>",
                            "<tr><th>Category</th><th>Qty</th><th>Orderyear</th></tr>",
                            "<tr><td>Beverages</td><td>1842</td><td>2006</td></tr>",
                            "<tr><td>Beverages</td><td>3996</td><td>2007</td></tr>",
                            "<tr><td>Beverages</td><td>3694</td><td>2008</td></tr>",
                            "<tr><td>Condiments</td><td>962</td><td>2006</td></tr>",
                            "<tr><td>Condiments</td><td>2895</td><td>2007</td></tr>",
                            "<tr><td>Condiments</td><td>1441</td><td>2008</td></tr>",
                            "<tr><td>Confections</td><td>1357</td><td>2006</td></tr>",
                            "<tr><td>Confections</td><td>4137</td><td>2007</td></tr>",
                            "<tr><td>Confections</td><td>2412</td><td>2008</td></tr>",
                            "<tr><td>Dairy Products</td><td>2086</td><td>2006</td></tr>",
                            "<tr><td>Dairy Products</td><td>4374</td><td>2007</td></tr>",
                            "<tr><td>Dairy Products</td><td>2689</td><td>2008</td></tr>",
                            "<tr><td>Grains/Cereals</td><td>549</td><td>2006</td></tr>",
                            "<tr><td>Grains/Cereals</td><td>2636</td><td>2007</td></tr>",
                            "<tr><td>Grains/Cereals</td><td>1377</td><td>2008</td></tr>",
                            "<tr><td>Meat/Poultry</td><td>950</td><td>2006</td></tr>",
                            "<tr><td>Meat/Poultry</td><td>2189</td><td>2007</td></tr>",
                            "<tr><td>Meat/Poultry</td><td>1060</td><td>2008</td></tr>",
                            "<tr><td>Produce</td><td>549</td><td>2006</td></tr>",
                            "<tr><td>Produce</td><td>1583</td><td>2007</td></tr>",
                            "<tr><td>Produce</td><td>858</td><td>2008</td></tr>",
                            "<tr><td>Seafood</td><td>1286</td><td>2006</td></tr>",
                            "<tr><td>Seafood</td><td>3679</td><td>2007</td></tr>",
                            "<tr><td>Seafood</td><td>2716</td><td>2008</td></tr>",
                            "</table>"
                        ]
                    }
                }
            ],
            "execution_count": 11
        },
        {
            "cell_type": "markdown",
            "source": [
                "1.8. Limpiar los cambios realizados.\n"
            ],
            "metadata": {
                "azdata_cell_guid": "9994c491-0aec-4ea9-8377-28ec148dee10"
            }
        },
        {
            "cell_type": "code",
            "source": [
                "IF OBJECT_ID('Sales.CategoryQtyYear', 'V') IS NOT NULL DROP VIEW Sales.CategoryQtyYear;\r\n",
                "IF OBJECT_ID('Sales.PivotedCategorySales') IS NOT NULL DROP TABLE Sales.PivotedCategorySales;\r\n",
                "GO"
            ],
            "metadata": {
                "azdata_cell_guid": "4a2545cb-5f07-49c6-b014-98ff46b462a3",
                "language": "sql"
            },
            "outputs": [
                {
                    "output_type": "display_data",
                    "data": {
                        "text/html": "Commands completed successfully."
                    },
                    "metadata": {}
                },
                {
                    "output_type": "display_data",
                    "data": {
                        "text/html": "Total execution time: 00:00:00.003"
                    },
                    "metadata": {}
                }
            ],
            "execution_count": 12
        },
        {
            "cell_type": "markdown",
            "source": [
                "<h2>Parte 02. Escribir consultas que utilizan UNPIVOT."
            ],
            "metadata": {
                "azdata_cell_guid": "cb39f4dd-5700-4d3d-8889-26973f87afd9"
            }
        },
        {
            "cell_type": "markdown",
            "source": [
                "2.1. Ejecutar la siguiente vistas"
            ],
            "metadata": {
                "azdata_cell_guid": "7b698689-fe92-4cb3-8566-c4fd07ebcbc6"
            }
        },
        {
            "cell_type": "code",
            "source": [],
            "metadata": {
                "azdata_cell_guid": "3b82c483-6f9b-471b-bd5a-83b87fc8fc5e",
                "language": "sql"
            },
            "outputs": [],
            "execution_count": null
        },
        {
            "cell_type": "markdown",
            "source": [
                "2.2. Elaborar una consulta sin utilizar GROUPING SETS."
            ],
            "metadata": {
                "azdata_cell_guid": "383e30cc-53f8-4a51-bfed-6685c49eac05"
            }
        },
        {
            "cell_type": "code",
            "source": [],
            "metadata": {
                "azdata_cell_guid": "e051ce03-75a7-4298-8bd9-d55868dbbd6a",
                "language": "sql"
            },
            "outputs": [],
            "execution_count": null
        },
        {
            "cell_type": "markdown",
            "source": [
                "2.3. Consultar con GROUPING SETS."
            ],
            "metadata": {
                "azdata_cell_guid": "cfd769d7-265e-44cd-ae72-69d5d6db9fc7"
            }
        },
        {
            "cell_type": "code",
            "source": [],
            "metadata": {
                "azdata_cell_guid": "13796b1e-26c4-4ea6-882e-c29a99639b74",
                "language": "sql"
            },
            "outputs": [],
            "execution_count": null
        },
        {
            "cell_type": "markdown",
            "source": [
                "2.4. Consultar con CUBE."
            ],
            "metadata": {
                "azdata_cell_guid": "73732a9d-6e0a-43ef-92ab-d3b4ac5406bc"
            }
        },
        {
            "cell_type": "code",
            "source": [],
            "metadata": {
                "azdata_cell_guid": "d75d796c-991a-48a8-a4e2-e940994cf072",
                "language": "sql"
            },
            "outputs": [],
            "execution_count": null
        },
        {
            "cell_type": "markdown",
            "source": [
                "2.5. Consultar con ROLLUP"
            ],
            "metadata": {
                "azdata_cell_guid": "87ec1ad2-5d1c-4312-b5a5-4cb8549edfa4"
            }
        },
        {
            "cell_type": "code",
            "source": [],
            "metadata": {
                "azdata_cell_guid": "0ecd46f2-9dff-4b0f-bca3-8894037cbf86",
                "language": "sql"
            },
            "outputs": [],
            "execution_count": null
        },
        {
            "cell_type": "markdown",
            "source": [
                "2.6. Utilizar Grouping_ID."
            ],
            "metadata": {
                "azdata_cell_guid": "95beaec3-498d-4110-a858-dc128ba98721"
            }
        },
        {
            "cell_type": "code",
            "source": [],
            "metadata": {
                "azdata_cell_guid": "070a7d05-65b4-4462-abc0-e6c9fe42f696",
                "language": "sql"
            },
            "outputs": [],
            "execution_count": null
        },
        {
            "cell_type": "markdown",
            "source": [
                "2.7. Finalmente limpiar los cambios"
            ],
            "metadata": {
                "azdata_cell_guid": "87838adf-1c7d-4018-a25a-fcc421d7c696"
            }
        },
        {
            "cell_type": "code",
            "source": [],
            "metadata": {
                "azdata_cell_guid": "159ecd9b-0646-4c26-86b2-11493faab768",
                "language": "sql"
            },
            "outputs": [],
            "execution_count": null
        },
        {
            "cell_type": "markdown",
            "source": [
                "<h2>Ejercicio 03: Escribir consultas que usan las clausulas GROUPING SETS, CUBE y ROLLUP"
            ],
            "metadata": {
                "azdata_cell_guid": "3c5fcf6d-cc71-466d-9bdc-f0cd030dc652"
            }
        },
        {
            "cell_type": "markdown",
            "source": [
                "3.1. Escribir una sentencia SELECT contra la tabla Sales.Customers y traer las columnas country, city\n",
                "y una columna calculada noofcustomers como una cantidad de clientes. Traer multiples grouping\n",
                "sets basados en las columnas country y city, la columna country, la columna city, y una columna con un grouping set vacio."
            ],
            "metadata": {
                "azdata_cell_guid": "0d43c9b9-784c-41a4-b181-677c5241510d"
            }
        },
        {
            "cell_type": "code",
            "source": [],
            "metadata": {
                "azdata_cell_guid": "ae6a8d7e-e062-4ec1-a98f-9034f7efb789",
                "language": "sql"
            },
            "outputs": [],
            "execution_count": null
        },
        {
            "cell_type": "markdown",
            "source": [
                "3.2. Escribir una sentencia SELECT contra la vista Sales.OrderValues y traer las columnas:\n",
                "<li>Año de la columna orderdate como orderyear.\n",
                "<li>Mes de la columna orderdate como ordermonth.\n",
                "<li>Día de la columna orderdate como orderday.\n",
                "<li>Valor de Total de Ventas utilizando la columna val como salesvalue.\n",
                "<li>Devolver todas los posibles  grouping sets basados en las columnas orderyear, ordermonth, y orderday."
            ],
            "metadata": {
                "azdata_cell_guid": "717340d3-174a-4ed4-9348-d0f4e4563eb8"
            }
        },
        {
            "cell_type": "code",
            "source": [],
            "metadata": {
                "azdata_cell_guid": "d410f43f-54dd-43a1-bbd7-0e175e18b36c",
                "language": "sql"
            },
            "outputs": [],
            "execution_count": null
        },
        {
            "cell_type": "markdown",
            "source": [
                "3.3. Copiar la consulta previa y modificarla para utilizar la clausula ROLLUP en vez de CUBE."
            ],
            "metadata": {
                "azdata_cell_guid": "44e193a2-e9d5-4a51-875f-d6c60a921bde"
            }
        },
        {
            "cell_type": "code",
            "source": [],
            "metadata": {
                "azdata_cell_guid": "ef4b0d49-20c9-40a7-a7fa-b4fe76b0a8d0",
                "language": "sql"
            },
            "outputs": [],
            "execution_count": null
        },
        {
            "cell_type": "markdown",
            "source": [
                "3.4. Escribir una sentencia SELECT contra la vista Sales.OrderValues y traer las columnas:\n",
                "<li>Columna Calculada con el alias groupid (usar la función GROUPING_ID con los campos order year y order month como parametros).\n",
                "<li>Año de la columna orderdate como orderyear.\n",
                "<li>Mes de la columna orderdate como ordermonth.\n",
                "<li>Valor Total de Ventas utilizando la columna val como salesvalue.\n",
                "<li>Desde Año y mes month forman una jerarquia, retornar todos los grouping sets interesantes basados en las columnas orderyear y ordermonth y ordenar el resultado por groupid, orderyear, and ordermonth"
            ],
            "metadata": {
                "azdata_cell_guid": "ed464c7b-75a0-4736-a5c4-49358191994e"
            }
        }
    ]
}